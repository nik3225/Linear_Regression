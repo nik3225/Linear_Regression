{
 "cells": [
  {
   "cell_type": "markdown",
   "id": "dominant-crash",
   "metadata": {},
   "source": [
    "## Linear Regression :\n",
    "Have you ever wondered if one predictor (independent feature) can predict the predicted variable (dependent feature). This project uses a single feature to predict the dependent variable. The accuracy can be measured by mutiple methods and we can check how good the fit is by using methods such as RMSE(Root Mean Square Error) and minimising them. \n",
    "\n",
    "Note: We are provided with labels so this is a supervised learning method. Regression can be multiple regression as well when we are trying to predict multiple variables. There may or may not be a relation between the two depending on the findings.\n",
    "\n",
    "Note: In layman terms, we are trying to fit a line that will be used to explain the points that will enter the system at a later stage. In our system we will use the train set to train our model and then we will use the test set to check how well our model fits that data."
   ]
  },
  {
   "cell_type": "code",
   "execution_count": 1,
   "id": "exact-inclusion",
   "metadata": {},
   "outputs": [],
   "source": [
    "# Lets import the libraries required for computation:\n",
    "import numpy as np # used for all the mathy things\n",
    "import matplotlib.pyplot as plt # used for producing great visualizations\n",
    "import pandas as pd #used for working with dataframes, uses numpy at background"
   ]
  },
  {
   "cell_type": "code",
   "execution_count": 2,
   "id": "decreased-opposition",
   "metadata": {},
   "outputs": [
    {
     "name": "stdout",
     "output_type": "stream",
     "text": [
      "x    0\n",
      "y    1\n",
      "dtype: int64\n"
     ]
    }
   ],
   "source": [
    "#lets load the dataset and assign it to an object\n",
    "train = pd.read_csv(\"train.csv\")\n",
    "#lets check for any missing values:\n",
    "print(train.isnull().sum())\n",
    "\n",
    "#the isnull() method checks if the values is missing or not and returns a boolean TRUE(Missing)=1 and ) otherwise.\n",
    "#note: this works because the missing values are given a value of 1"
   ]
  },
  {
   "cell_type": "code",
   "execution_count": 3,
   "id": "latest-gravity",
   "metadata": {},
   "outputs": [],
   "source": [
    "# as there is just 1 missing value lets just drop that as it won't matter much.\n",
    "# we can use this by dropna() method.\n",
    "train = train.dropna()\n"
   ]
  },
  {
   "cell_type": "code",
   "execution_count": 4,
   "id": "exceptional-filing",
   "metadata": {},
   "outputs": [
    {
     "data": {
      "text/html": [
       "<div>\n",
       "<style scoped>\n",
       "    .dataframe tbody tr th:only-of-type {\n",
       "        vertical-align: middle;\n",
       "    }\n",
       "\n",
       "    .dataframe tbody tr th {\n",
       "        vertical-align: top;\n",
       "    }\n",
       "\n",
       "    .dataframe thead th {\n",
       "        text-align: right;\n",
       "    }\n",
       "</style>\n",
       "<table border=\"1\" class=\"dataframe\">\n",
       "  <thead>\n",
       "    <tr style=\"text-align: right;\">\n",
       "      <th></th>\n",
       "      <th>x</th>\n",
       "      <th>y</th>\n",
       "    </tr>\n",
       "  </thead>\n",
       "  <tbody>\n",
       "    <tr>\n",
       "      <th>0</th>\n",
       "      <td>24.0</td>\n",
       "      <td>21.549452</td>\n",
       "    </tr>\n",
       "    <tr>\n",
       "      <th>1</th>\n",
       "      <td>50.0</td>\n",
       "      <td>47.464463</td>\n",
       "    </tr>\n",
       "    <tr>\n",
       "      <th>2</th>\n",
       "      <td>15.0</td>\n",
       "      <td>17.218656</td>\n",
       "    </tr>\n",
       "    <tr>\n",
       "      <th>3</th>\n",
       "      <td>38.0</td>\n",
       "      <td>36.586398</td>\n",
       "    </tr>\n",
       "    <tr>\n",
       "      <th>4</th>\n",
       "      <td>87.0</td>\n",
       "      <td>87.288984</td>\n",
       "    </tr>\n",
       "    <tr>\n",
       "      <th>...</th>\n",
       "      <td>...</td>\n",
       "      <td>...</td>\n",
       "    </tr>\n",
       "    <tr>\n",
       "      <th>695</th>\n",
       "      <td>58.0</td>\n",
       "      <td>58.595006</td>\n",
       "    </tr>\n",
       "    <tr>\n",
       "      <th>696</th>\n",
       "      <td>93.0</td>\n",
       "      <td>94.625094</td>\n",
       "    </tr>\n",
       "    <tr>\n",
       "      <th>697</th>\n",
       "      <td>82.0</td>\n",
       "      <td>88.603770</td>\n",
       "    </tr>\n",
       "    <tr>\n",
       "      <th>698</th>\n",
       "      <td>66.0</td>\n",
       "      <td>63.648685</td>\n",
       "    </tr>\n",
       "    <tr>\n",
       "      <th>699</th>\n",
       "      <td>97.0</td>\n",
       "      <td>94.975266</td>\n",
       "    </tr>\n",
       "  </tbody>\n",
       "</table>\n",
       "<p>699 rows × 2 columns</p>\n",
       "</div>"
      ],
      "text/plain": [
       "        x          y\n",
       "0    24.0  21.549452\n",
       "1    50.0  47.464463\n",
       "2    15.0  17.218656\n",
       "3    38.0  36.586398\n",
       "4    87.0  87.288984\n",
       "..    ...        ...\n",
       "695  58.0  58.595006\n",
       "696  93.0  94.625094\n",
       "697  82.0  88.603770\n",
       "698  66.0  63.648685\n",
       "699  97.0  94.975266\n",
       "\n",
       "[699 rows x 2 columns]"
      ]
     },
     "execution_count": 4,
     "metadata": {},
     "output_type": "execute_result"
    }
   ],
   "source": [
    "#lets load the dataset and allocate the dependent and the independent variables:\n",
    "xtrain = np.array(train.iloc[:, :-1].values) # predictor variable (independent)\n",
    "ytrain = np.array(train.iloc[:, 1].values) # predicted variable (dependent)\n",
    "#lets have a look at our dataset\n",
    "train\n"
   ]
  },
  {
   "cell_type": "code",
   "execution_count": 5,
   "id": "blank-charge",
   "metadata": {},
   "outputs": [
    {
     "data": {
      "text/plain": [
       "numpy.float64"
      ]
     },
     "execution_count": 5,
     "metadata": {},
     "output_type": "execute_result"
    }
   ],
   "source": [
    "#note above that all the data is converted into float even though they were not so initially for all values\n",
    "type(train['x'][0])"
   ]
  },
  {
   "cell_type": "code",
   "execution_count": 6,
   "id": "strong-thesis",
   "metadata": {},
   "outputs": [
    {
     "data": {
      "text/html": [
       "<div>\n",
       "<style scoped>\n",
       "    .dataframe tbody tr th:only-of-type {\n",
       "        vertical-align: middle;\n",
       "    }\n",
       "\n",
       "    .dataframe tbody tr th {\n",
       "        vertical-align: top;\n",
       "    }\n",
       "\n",
       "    .dataframe thead th {\n",
       "        text-align: right;\n",
       "    }\n",
       "</style>\n",
       "<table border=\"1\" class=\"dataframe\">\n",
       "  <thead>\n",
       "    <tr style=\"text-align: right;\">\n",
       "      <th></th>\n",
       "      <th>x</th>\n",
       "      <th>y</th>\n",
       "    </tr>\n",
       "  </thead>\n",
       "  <tbody>\n",
       "    <tr>\n",
       "      <th>0</th>\n",
       "      <td>77</td>\n",
       "      <td>79.775152</td>\n",
       "    </tr>\n",
       "    <tr>\n",
       "      <th>1</th>\n",
       "      <td>21</td>\n",
       "      <td>23.177279</td>\n",
       "    </tr>\n",
       "    <tr>\n",
       "      <th>2</th>\n",
       "      <td>22</td>\n",
       "      <td>25.609262</td>\n",
       "    </tr>\n",
       "    <tr>\n",
       "      <th>3</th>\n",
       "      <td>20</td>\n",
       "      <td>17.857388</td>\n",
       "    </tr>\n",
       "    <tr>\n",
       "      <th>4</th>\n",
       "      <td>36</td>\n",
       "      <td>41.849864</td>\n",
       "    </tr>\n",
       "    <tr>\n",
       "      <th>...</th>\n",
       "      <td>...</td>\n",
       "      <td>...</td>\n",
       "    </tr>\n",
       "    <tr>\n",
       "      <th>295</th>\n",
       "      <td>71</td>\n",
       "      <td>68.545888</td>\n",
       "    </tr>\n",
       "    <tr>\n",
       "      <th>296</th>\n",
       "      <td>46</td>\n",
       "      <td>47.334876</td>\n",
       "    </tr>\n",
       "    <tr>\n",
       "      <th>297</th>\n",
       "      <td>55</td>\n",
       "      <td>54.090637</td>\n",
       "    </tr>\n",
       "    <tr>\n",
       "      <th>298</th>\n",
       "      <td>62</td>\n",
       "      <td>63.297171</td>\n",
       "    </tr>\n",
       "    <tr>\n",
       "      <th>299</th>\n",
       "      <td>47</td>\n",
       "      <td>52.459467</td>\n",
       "    </tr>\n",
       "  </tbody>\n",
       "</table>\n",
       "<p>300 rows × 2 columns</p>\n",
       "</div>"
      ],
      "text/plain": [
       "      x          y\n",
       "0    77  79.775152\n",
       "1    21  23.177279\n",
       "2    22  25.609262\n",
       "3    20  17.857388\n",
       "4    36  41.849864\n",
       "..   ..        ...\n",
       "295  71  68.545888\n",
       "296  46  47.334876\n",
       "297  55  54.090637\n",
       "298  62  63.297171\n",
       "299  47  52.459467\n",
       "\n",
       "[300 rows x 2 columns]"
      ]
     },
     "execution_count": 6,
     "metadata": {},
     "output_type": "execute_result"
    }
   ],
   "source": [
    "#loading the test set:\n",
    "test = pd.read_csv(\"test.csv\")\n",
    "# drop the rows with missing values as we have done above\n",
    "test = test.dropna() \n",
    "\n",
    "xtest = np.array(test.iloc[:, :-1].values) # predictor variable\n",
    "ytest = np.array(test.iloc[:, 1].values) # predicted variable\n",
    "test"
   ]
  },
  {
   "cell_type": "markdown",
   "id": "rising-acrylic",
   "metadata": {},
   "source": [
    "### Sklearn has many algorithms preloaded that we just need to call them\n",
    "Lets train our algorithm using the data"
   ]
  },
  {
   "cell_type": "code",
   "execution_count": 9,
   "id": "graphic-brick",
   "metadata": {},
   "outputs": [
    {
     "name": "stdout",
     "output_type": "stream",
     "text": [
      "Accuracy = 0.9888014444327563\n"
     ]
    }
   ],
   "source": [
    "from sklearn.linear_model import LinearRegression\n",
    "LinearRegression = LinearRegression()\n",
    "LinearRegression.fit(xtrain,ytrain)\n",
    "#lets check the accuracy of our model:\n",
    "accuracy = LinearRegression.score(xtest, ytest)\n",
    "print('Accuracy = '+ str(accuracy))"
   ]
  },
  {
   "cell_type": "markdown",
   "id": "scheduled-count",
   "metadata": {},
   "source": [
    "## WHOA ! \n",
    "This kind of accuracy is only rarely observed.\n",
    "Psst. This means that they are highly correlated, which means that if one goes up the other goes up and vice versa."
   ]
  },
  {
   "cell_type": "code",
   "execution_count": 24,
   "id": "opposite-distinction",
   "metadata": {},
   "outputs": [
    {
     "data": {
      "image/png": "[encoded data removed]",
      "text/plain": [
       "<Figure size 576x396 with 1 Axes>"
      ]
     },
     "metadata": {},
     "output_type": "display_data"
    }
   ],
   "source": [
    "#lets plot our data and visualize the results:\n",
    "plt.scatter(xtest, ytest, color = 'yellow',\n",
    "          label = 'testing data')\n",
    "plt.plot(xtrain, LinearRegression.predict(xtrain), color = 'blue', label='Plot')\n",
    "plt.xlabel('independent variable(x)')\n",
    "plt.ylabel('dependent variable(y)')\n",
    "plt.legend(loc = 'best')\n",
    "plt.title('Linear Regression Plot')\n",
    "plt.show()"
   ]
  }
 ],
 "metadata": {
  "kernelspec": {
   "display_name": "Python 3",
   "language": "python",
   "name": "python3"
  },
  "language_info": {
   "codemirror_mode": {
    "name": "ipython",
    "version": 3
   },
   "file_extension": ".py",
   "mimetype": "text/x-python",
   "name": "python",
   "nbconvert_exporter": "python",
   "pygments_lexer": "ipython3",
   "version": "3.7.9"
  }
 },
 "nbformat": 4,
 "nbformat_minor": 5
}
